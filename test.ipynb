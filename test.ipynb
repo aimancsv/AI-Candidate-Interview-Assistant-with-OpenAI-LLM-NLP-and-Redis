{
 "cells": [
  {
   "cell_type": "code",
   "execution_count": 1,
   "metadata": {},
   "outputs": [
    {
     "name": "stdout",
     "output_type": "stream",
     "text": [
      "Collecting redis\n",
      "  Obtaining dependency information for redis from https://files.pythonhosted.org/packages/2f/3b/db091387f25c202a34030de8f7fee26a69c11b83797eecaef5b06e261966/redis-5.0.7-py3-none-any.whl.metadata\n",
      "  Downloading redis-5.0.7-py3-none-any.whl.metadata (9.3 kB)\n",
      "Downloading redis-5.0.7-py3-none-any.whl (252 kB)\n",
      "\u001b[2K   \u001b[38;2;114;156;31m━━━━━━━━━━━━━━━━━━━━━━━━━━━━━━━━━━━━━━━━\u001b[0m \u001b[32m252.1/252.1 kB\u001b[0m \u001b[31m5.6 MB/s\u001b[0m eta \u001b[36m0:00:00\u001b[0m[36m0:00:01\u001b[0m\n",
      "\u001b[?25hInstalling collected packages: redis\n",
      "Successfully installed redis-5.0.7\n"
     ]
    },
    {
     "data": {
      "text/plain": [
       "True"
      ]
     },
     "execution_count": 1,
     "metadata": {},
     "output_type": "execute_result"
    }
   ],
   "source": [
    "!pip install redis\n",
    "import json\n",
    "import os\n",
    "from typing import List\n",
    "import redis\n",
    "\n",
    "redis_host = os.getenv(\"REDIS_HOST\") or \"\n",
    "redis_port = int(os.getenv(\"REDIS_PORT\", 6379))\n",
    "redis_client = redis.Redis(host=redis_host, port=redis_port, decode_responses=True)\n",
    "\n",
    "redis_client.set(\"key\",\"hi tere\")\n",
    "\n",
    "\n"
   ]
  },
  {
   "cell_type": "code",
   "execution_count": 2,
   "metadata": {},
   "outputs": [
    {
     "name": "stdout",
     "output_type": "stream",
     "text": [
      "Similarity score: 0.6785\n"
     ]
    }
   ],
   "source": [
    "import numpy as np\n",
    "from typing import List\n",
    "\n",
    "\n",
    "def collaborative_filtering_similarity(\n",
    "    company_attributes: List[float], candidate_attributes: List[float]\n",
    ") -> float:\n",
    "    \"\"\"\n",
    "    Compute the similarity score between a company and a candidate using collaborative filtering.\n",
    "\n",
    "    :param company_attributes: List of company attribute scores (-1 to 1)\n",
    "    :param candidate_attributes: List of candidate attribute scores (-1 to 1)\n",
    "    :return: Similarity score between -1 and 1\n",
    "    \"\"\"\n",
    "    if len(company_attributes) != len(candidate_attributes):\n",
    "        raise ValueError(\n",
    "            \"Company and candidate attribute lists must have the same length\"\n",
    "        )\n",
    "\n",
    "    # Convert lists to numpy arrays for efficient computation\n",
    "    company_vector = np.array(company_attributes)\n",
    "    candidate_vector = np.array(candidate_attributes)\n",
    "\n",
    "    # Compute cosine similarity\n",
    "    dot_product = np.dot(company_vector, candidate_vector)\n",
    "    company_magnitude = np.linalg.norm(company_vector)\n",
    "    candidate_magnitude = np.linalg.norm(candidate_vector)\n",
    "\n",
    "    # Avoid division by zero\n",
    "    if company_magnitude == 0 or candidate_magnitude == 0:\n",
    "        return 0\n",
    "\n",
    "    similarity = dot_product / (company_magnitude * candidate_magnitude)\n",
    "\n",
    "    return similarity\n",
    "\n",
    "\n",
    "# Example usage\n",
    "def example_usage():\n",
    "    company_scores = [0.8, -0.5, 0.3, 0.9, -0.2]\n",
    "    candidate_scores = [0.0, -0.0, 0.0, 0.8, -0.1]\n",
    "\n",
    "    similarity_score = collaborative_filtering_similarity(\n",
    "        company_scores, candidate_scores\n",
    "    )\n",
    "    print(f\"Similarity score: {similarity_score:.4f}\")\n",
    "\n",
    "\n",
    "if __name__ == \"__main__\":\n",
    "    example_usage()\n"
   ]
  },
  {
   "cell_type": "code",
   "execution_count": null,
   "metadata": {},
   "outputs": [],
   "source": []
  }
 ],
 "metadata": {
  "kernelspec": {
   "display_name": "congruent",
   "language": "python",
   "name": "python3"
  },
  "language_info": {
   "codemirror_mode": {
    "name": "ipython",
    "version": 3
   },
   "file_extension": ".py",
   "mimetype": "text/x-python",
   "name": "python",
   "nbconvert_exporter": "python",
   "pygments_lexer": "ipython3",
   "version": "3.11.5"
  }
 },
 "nbformat": 4,
 "nbformat_minor": 2
}
